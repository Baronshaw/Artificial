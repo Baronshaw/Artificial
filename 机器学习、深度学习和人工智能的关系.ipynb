{
 "cells": [
  {
   "cell_type": "markdown",
   "metadata": {},
   "source": [
    "1.1 人工智能、机器学习、深度学习的关系  \n",
    "人工智能、机器学习、深度学习的关系整理如图1-1所示。\n",
    "![title](images/timg.jpg)\n",
    "<center>图 1-1</center>\n",
    "**人工智能**  \n",
    "人工智能一词最早实在20世纪50年代提出的。人工智能的目标是让计算机想人一样思考和学习。被视为人工智能之父的图灵提出了著名的“图灵测试”：人类与机器通过电传设备对话，如果人类无法根据这个对话过程判断对方是机器或人，通过图灵测试就可以认定这台机器具有人工智能。\n",
    "**机器学习**\n",
    "机器学习（Machine Leanring）是人工智能的分支。机器学习是通过算法，使用大量数据进行训练，训练完成后会产生模型。将来有新的数据时，我们可以使用训练产生的模型进行预测。机器学习可以分为有监督的学习（Supervised Learning）、无监督的学习(Unsupervised Learning)和增强式学习（Reinforcement Learning）。  \n",
    "机器学习应用相当广泛，例如推荐引擎、定向广告、需求预测、垃圾邮件过滤、医学诊断、自然语言处理、搜索引擎、诈骗侦测、证券分析、视觉识别、手写识别等等。\n",
    "**深度学习**  \n",
    "深度学习（Deep Learning）也是机器学习的分支。深度学习是人工智能中成长最快的领域，深度学习仿真人类神经网络的工作方式，常见的深度学习架构又多长感知器（MultiLayer Perceptron）、深度神经网络(Recurrent Neaural Network, RNN）。深度学习已经用于视觉识别、语音识别、自然语言处理、生物医学等领域，并取得了非常好的效果。 \n",
    "**为何今年来人工智能发展加速**  \n",
    "早在20世纪60年代及70年代，科学家就提出了各种机器学习的算法，然而受限于当时计算机的计算能力以及大量数据的获取也不容易，因而机器学习一直都没有很成功。\n",
    "1. 大数据分布式存储与运算\n",
    "随着全球计算机设备、机器和系统的相互连接，从而产生了大量数据，在加上分布式存储(例如Hadoop、NoSQL等)的发展，提供了大量数据，而且大量服务器的并行计算功能（例如Spark等）提供了巨大的运算能力。大量数据与运算能力就像燃料，推动了机器学习与深度学习的加速发展。\n",
    "2. GPU、TPU并行计算\n",
    "GPU(Graphics Processing Unit, 图形处理器)原本用来处理画面像素的运算，例如电脑游戏界面所需要的大量图形运算。  \n",
    "CPU与GPU架构上有着根本的不同：CPU含有数颗核心，为顺序处理进行优化，而GPU可以有高达数千颗小型而且高效的核心，可以发挥计算的强大功能。\n",
    "深度学习以大量矩阵运算模拟神经元的工作方式，矩阵运算的特点是，单一运算都很简单，但是需要大量运算，特别适合采用并行计算。GPU通过大量核心进行并行计算，可让通过GPU进行深度学习训练比通过CPU进行深度学习训练快10-75倍，然训练视觉从数周缩短为数天。\n",
    "而Google在2016年宣布了人工智能专用芯片TPU来进行计算，TPU是转为深度学习特定用途设计的特殊规格的逻辑芯片，使得深度学习的训练速度更快。\n"
   ]
  },
  {
   "cell_type": "code",
   "execution_count": null,
   "metadata": {},
   "outputs": [],
   "source": []
  },
  {
   "cell_type": "code",
   "execution_count": null,
   "metadata": {},
   "outputs": [],
   "source": []
  }
 ],
 "metadata": {
  "kernelspec": {
   "display_name": "Python 3",
   "language": "python",
   "name": "python3"
  },
  "language_info": {
   "codemirror_mode": {
    "name": "ipython",
    "version": 3
   },
   "file_extension": ".py",
   "mimetype": "text/x-python",
   "name": "python",
   "nbconvert_exporter": "python",
   "pygments_lexer": "ipython3",
   "version": "3.6.4"
  }
 },
 "nbformat": 4,
 "nbformat_minor": 2
}
