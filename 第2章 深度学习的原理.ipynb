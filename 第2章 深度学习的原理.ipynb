{
 "cells": [
  {
   "cell_type": "markdown",
   "metadata": {},
   "source": [
    "# 2.1神经传导的原理\n",
    "## 1. 神经传导的原理  \n",
    "神经传导的工作原理很复杂，这里我们只简单介绍其概念，如果2-1所示：  \n",
    "\n",
    "![title](images/2-1.png)  \n",
    "\n",
    "<center>图2-1</center>  \n",
    "- **轴突传送信息：**神经元长出一个细长条的轴突，以电流方式将信息传递给另一个神经元。轴突最长可达一米，最短只有几十分之一毫米。  \n",
    "- **树突接受信息：**树突的主要功能是接收其他神经元传来的电化学信息，在传递给本身的细胞。\n",
    "- **突触是输入与输出的神经元传递的机制：**输入与输出的神经元之间发展处的特殊结构称为突触，神经元通过释放化学物质来传递信息，当电压达到临界值时，就会通过轴突传送电脉冲动作电位至接受神经元。\n",
    "## 2. 以数学公式仿真神经元的传导"
   ]
  },
  {
   "cell_type": "code",
   "execution_count": null,
   "metadata": {},
   "outputs": [],
   "source": []
  }
 ],
 "metadata": {
  "kernelspec": {
   "display_name": "Python 3",
   "language": "python",
   "name": "python3"
  },
  "language_info": {
   "codemirror_mode": {
    "name": "ipython",
    "version": 3
   },
   "file_extension": ".py",
   "mimetype": "text/x-python",
   "name": "python",
   "nbconvert_exporter": "python",
   "pygments_lexer": "ipython3",
   "version": "3.6.4"
  }
 },
 "nbformat": 4,
 "nbformat_minor": 2
}
