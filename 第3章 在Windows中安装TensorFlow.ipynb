{
 "cells": [
  {
   "cell_type": "markdown",
   "metadata": {},
   "source": [
    "# 1.安装Anaconda  \n",
    "\n",
    "## 1.下载Anaconda  \n",
    "\n",
    "先打开浏览器，输入下列网址，显示出如图3-1所示的网页：  \n",
    "https://www.anaconda.com/download/  \n",
    "![title](images/3-1.png)  \n",
    "## 2.运行下载后的Anaconda，如图3-2所示：  \n",
    "![title](images/3-2.png)  \n",
    "## 3.单机Next按钮，如图3-3示。  \n",
    "![title](images/3-3.png)  \n",
    "## 4.单机I Agree按钮，如图3-4所示：  \n",
    "![title](images/3-4.png)  \n",
    "## 5. 单机Next按钮，如图3-5所示：  \n",
    "![title](images/3-5.png)  \n",
    "## 6.设置安装目录，如图4-6所示：  \n",
    "![title](images/3-7.png)  \n",
    "## 7.设置Anaconda，如图4-7所示：  \n",
    "![title](images/3-6.png)  \n",
    "\n",
    "\n",
    "# 2.建立TensorFlow的Anaconda虚拟环境  \n",
    "\n",
    "\n",
    "# 3.启动Anaconda虚拟环境，在虚拟环境中安装TensorFlow与Keras  \n",
    "\n",
    "# 4.启动Jupyter Notebook  "
   ]
  },
  {
   "cell_type": "code",
   "execution_count": null,
   "metadata": {},
   "outputs": [],
   "source": []
  }
 ],
 "metadata": {
  "kernelspec": {
   "display_name": "Python 3",
   "language": "python",
   "name": "python3"
  },
  "language_info": {
   "codemirror_mode": {
    "name": "ipython",
    "version": 3
   },
   "file_extension": ".py",
   "mimetype": "text/x-python",
   "name": "python",
   "nbconvert_exporter": "python",
   "pygments_lexer": "ipython3",
   "version": "3.6.4"
  }
 },
 "nbformat": 4,
 "nbformat_minor": 2
}
