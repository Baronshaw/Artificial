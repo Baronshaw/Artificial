{
 "cells": [
  {
   "cell_type": "markdown",
   "metadata": {},
   "source": [
    "# 1 Keras多元感知器识别MNIST手写图像的介绍  \n",
    "\n",
    "## 1.1 多层感知器模型的介绍  \n",
    "\n",
    "为了能够识别MNIST手写数字图像，我们将建立如下图所示的多层感知器模型。  \n",
    "![title](images/7.0.png)  "
   ]
  },
  {
   "cell_type": "markdown",
   "metadata": {},
   "source": [
    "## 1.2 多层感知器的训练与预测  \n",
    "\n",
    "建立如上图所示的多层感知器模型后，必须线训练模型才能够进行预测这写手写数字图像。  \n",
    "![title](images/7.1.png)  \n",
    "\n",
    "以多层感知模型识别MNIST数字图像可分为训练与预测。  \n",
    "- 训练  \n",
    "MNIST训练数据集的训练数据总共有60000项，经过数据预处理后会产生Features(数字图像特征值)与Label（数字真实的值），然后输入多层感知器模型进行训练，训练完成后的模型可以作为下一个阶段预测使用。  \n",
    "- 预测  \n",
    "输入数字图像，预处理后会产生Features（数字图像特征值），使用训练完成的多层感知器模型进行预测，最后产生预测结果是0~9的数字。"
   ]
  },
  {
   "cell_type": "markdown",
   "metadata": {},
   "source": [
    "## 1.3 建立多层感知器模型的步骤  \n",
    "\n",
    "多层感知器识别MNIST数据集中的手写数字的步骤说明如图所示：  \n",
    "![title](images/7.2.png)  \n"
   ]
  },
  {
   "cell_type": "code",
   "execution_count": null,
   "metadata": {
    "collapsed": true
   },
   "outputs": [],
   "source": []
  },
  {
   "cell_type": "code",
   "execution_count": null,
   "metadata": {
    "collapsed": true
   },
   "outputs": [],
   "source": []
  }
 ],
 "metadata": {
  "kernelspec": {
   "display_name": "Python 3",
   "language": "python",
   "name": "python3"
  },
  "language_info": {
   "codemirror_mode": {
    "name": "ipython",
    "version": 3
   },
   "file_extension": ".py",
   "mimetype": "text/x-python",
   "name": "python",
   "nbconvert_exporter": "python",
   "pygments_lexer": "ipython3",
   "version": "3.5.1"
  }
 },
 "nbformat": 4,
 "nbformat_minor": 0
}
