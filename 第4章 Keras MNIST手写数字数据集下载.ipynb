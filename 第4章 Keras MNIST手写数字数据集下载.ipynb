{
 "cells": [
  {
   "cell_type": "markdown",
   "metadata": {},
   "source": [
    "本节将介绍MNIST手写数字识别数据集，这是由Yann LeCun所搜集的，他也是Convolution Neuarl Networks的创始人。MNIST数据集的数据量并不大，而且是单色的图像，比较简单，很适合深度学习的初学者用来建立模型、训练、预测。  \n",
    "\n",
    "MNIST数据集共有60000项训练数据，10000项测试数据。MNIST数据集中的每一项数据images（数字图像）与Labels(真实数字)所组成，如图6-0所示：  \n",
    "![title](images/6-0.png)  \n",
    "\n",
    "# 1. 下载MNIST数据集  \n",
    "\n",
    "我们将创建以下Keras程序，下载并读取MNIST数据。  \n",
    "\n",
    "## 1.1 导入Kears及相关模块"
   ]
  },
  {
   "cell_type": "code",
   "execution_count": 1,
   "metadata": {},
   "outputs": [
    {
     "name": "stderr",
     "output_type": "stream",
     "text": [
      "Using TensorFlow backend.\n"
     ]
    }
   ],
   "source": [
    "import numpy as np\n",
    "import pandas as pd\n",
    "from keras.utils import np_utils\n",
    "np.random.seed(10)"
   ]
  },
  {
   "cell_type": "markdown",
   "metadata": {},
   "source": [
    "因为我们已经同时安装了Kears和TensorFlow，所以导入Keras模块后，可以看到Keras自动以TensorFlow作为Backend。  \n",
    "程序代码说明见表6-1.  \n",
    "<center>表6-1 程序代码说明</center>  \n",
    "\n",
    "| 项目 | 说明 |  \n",
    "| -----|----- |  \n",
    "|from kears.utils import np_utils | 导入keral.utis，因为后续要将标签转换为One-Hot Encoding（一位有效编码）|  \n",
    "|import numpy as np|导入numpy模块，Numpy是Python语言的扩展链接库，支持数组与矩阵运算|   \n",
    "|np.random.seed(10)|设置seed可以产生的随机数据|  \n",
    "\n",
    "## 1.2 导入Keras模块  \n",
    "Keras已经提供了现成的模块，可以帮助我们下载并读取MNIST数据，所以先导入MNIST模块。"
   ]
  },
  {
   "cell_type": "code",
   "execution_count": 2,
   "metadata": {},
   "outputs": [],
   "source": [
    "from keras.datasets import mnist"
   ]
  },
  {
   "cell_type": "markdown",
   "metadata": {},
   "source": [
    "## 1.3 第一此进行MNIST数据的下载  \n",
    "\n"
   ]
  },
  {
   "cell_type": "code",
   "execution_count": null,
   "metadata": {},
   "outputs": [],
   "source": []
  }
 ],
 "metadata": {
  "kernelspec": {
   "display_name": "Python 3",
   "language": "python",
   "name": "python3"
  },
  "language_info": {
   "codemirror_mode": {
    "name": "ipython",
    "version": 3
   },
   "file_extension": ".py",
   "mimetype": "text/x-python",
   "name": "python",
   "nbconvert_exporter": "python",
   "pygments_lexer": "ipython3",
   "version": "3.6.4"
  }
 },
 "nbformat": 4,
 "nbformat_minor": 2
}
