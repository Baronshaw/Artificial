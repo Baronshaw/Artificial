{
 "cells": [
  {
   "cell_type": "markdown",
   "metadata": {},
   "source": [
    "卷积神经网络是由一位计算机科学家Yann LeCun所提出的，他在机器学习、计算机视觉和计算神经科学等诸多领域都有贡献。  \n",
    "\n",
    "# 1 卷积神经网络简介  \n",
    "\n",
    "## 1.1 多层感知器与卷积神经网络  \n",
    "\n",
    "如图所示，多层感知器与卷积神网络主要的差异是：卷积神经网络增加了卷积层和池化层的处理来提取特征。  \n",
    "![title](images/8.1.png)  "
   ]
  },
  {
   "cell_type": "markdown",
   "metadata": {},
   "source": [
    "## 1.2 卷积神经网络介绍  \n",
    "从上图中可以看到卷积神经网络可以分为两大部分  \n",
    "\n",
    "- 图像的特征提取  \n",
    "通过卷积层1、池化层1、卷积层2、池化层2提取的特征  \n",
    "- 完全连接的神经网络  \n",
    "包含；平坦层、隐藏层、输出层、所组成的类神经网络，如图8-2所示。  \n",
    "<center>![title](images/8.2.png)</center>    \n",
    "从图8-2中，我们可以看到从这些图像中提取了“7”的图像特征，卷积运算的效果类似滤镜效果，即用于提取不同的特征。  "
   ]
  },
  {
   "cell_type": "markdown",
   "metadata": {},
   "source": [
    "## 1.3 卷积运算  \n",
    "\n",
    "卷积层的的意义是将原本一个图像经过卷积运算产生多个图像，就好像将相片叠加起来。  \n",
    "\n",
    "- 卷积运算的方式  \n",
    "1. 先按照随机的方式产生，filter weight大小是$3\\times 3$。  \n",
    "2. 要转换的图像从左到右、自上而下，按序选取$3\\times 3$的矩阵。  \n",
    "3. 图像选取的矩阵与filter weight乘积，计算第一行，第一列的数字。  \n",
    "![title](images/8.3.png)  \n",
    "再以相同的方式计算第一行、第二列的数字，如下图所示：\n",
    "![title](images/8.4.png)  \n",
    "按照上面的相同方式，按序完成所有运算，就可以完成图像的处理。"
   ]
  },
  {
   "attachments": {},
   "cell_type": "markdown",
   "metadata": {},
   "source": [
    "## 1.4 使用单个filter weight卷积运算产生图像  \n",
    "如图所示：将大小为$28\\times 28$的数字图形3，使用随机产生的$5\\times 5$filter weight滤镜进行卷积运算。  \n",
    "![title](images/8.5.png)  \n",
    "卷积运算并不会改变图形大小，所以处理后的图像大小任然是$28\\times 28$。卷积运算后的效果很类似滤镜效果，这可以帮助我们提取输入的不同特征，例如边缘、线条和角等。  "
   ]
  },
  {
   "cell_type": "markdown",
   "metadata": {},
   "source": [
    "## 1.5 使用多个filter weight卷积运算产生多个图像  \n",
    "\n",
    "接下来，我们将随机产生16个filter weight，也就是16个滤镜。  \n",
    "卷积运算使用16个滤镜产生16个图像，每个图像提取不同的特征，如图所示。  \n",
    "![title](images/8.6.png)  "
   ]
  },
  {
   "cell_type": "markdown",
   "metadata": {},
   "source": [
    "## 1.6 Max-Pool运算说明  \n",
    "Max-Pool运算可以对图像缩减采样，如图8-7所示，原本图像是$4\\times 4$的，经过Max-Pooling后，图像大小为$2\\times 2$的。  \n",
    "![title](images/8.7.png)  \n",
    "以上Max-Pooling运算详细说明如下：  \n",
    "\n",
    "- **左上角4个数字：**5、2、4、1最大的是5，所以计算结果是5，如图所示：  \n",
    "![title](images/8.8.png)  \n",
    "\n",
    "- **左上角4个数字：**3、1、1、6最大的是6，所以计算结果是6，如图所示：  \n",
    "![title](images/8.9.png)  \n",
    "\n",
    "- **左上角4个数字：**7、8、1、1最大的是8，所以计算结果是8，如图所示：  \n",
    "![title](images/8.10.png)  \n",
    "\n",
    "- **左上角4个数字：**2、9、1、1最大的是9，所以计算结果是9，如图所示：  \n",
    "![title](images/8.11.png)  "
   ]
  },
  {
   "cell_type": "markdown",
   "metadata": {},
   "source": [
    "## 1.7 使用Max-Pooling转换手写数字图像  \n",
    "\n",
    "使用Max-Pooling缩减采样，进行手写数字图像转换，将16个$28\\times 28$的图像缩小为16个$14\\times 14$的图像，但是不会改变图像的数量，如图8-12所示：  \n",
    "![title](images/8.12.png)  \n",
    "缩减采样会缩小图像，有下列好处：  \n",
    "1. **减少需要处理的数据点：**  减少后续运算的时间。  \n",
    "2. **让图像位置差异变小：**例如手写数字7，位置上下左右可能不同，位置的不同可能会影响识别。减小图像大小，让数字的位置差异变小。  \n",
    "3. **参数的数量和计算量下降：**这在一定程度上也控制了过度拟合。  \n",
    "\n"
   ]
  },
  {
   "cell_type": "markdown",
   "metadata": {},
   "source": [
    "## 1.8 建立卷积神经网络识别MNIST数据集  \n",
    "\n",
    "建立卷积神经网络识别MNIST数据集的步骤如图8-13所示。  \n",
    "![title](images/8.13.png)  "
   ]
  }
 ],
 "metadata": {
  "kernelspec": {
   "display_name": "Python 3",
   "language": "python",
   "name": "python3"
  },
  "language_info": {
   "codemirror_mode": {
    "name": "ipython",
    "version": 3
   },
   "file_extension": ".py",
   "mimetype": "text/x-python",
   "name": "python",
   "nbconvert_exporter": "python",
   "pygments_lexer": "ipython3",
   "version": "3.6.4"
  }
 },
 "nbformat": 4,
 "nbformat_minor": 2
}
