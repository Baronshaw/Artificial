{
 "cells": [
  {
   "cell_type": "markdown",
   "metadata": {},
   "source": [
    "卷积神经网络是由一位计算机科学家Yann LeCun所提出的，他在机器学习、计算机视觉和计算神经科学等诸多领域都有贡献。  \n",
    "\n",
    "# 1 卷积神经网络简介  \n",
    "\n",
    "## 1.1 多层感知器与卷积神经网络  \n",
    "\n",
    "如图所示，多层感知器与卷积神网络主要的差异是：卷积神经网络增加了卷积层和池化层的处理来提取特征。  \n",
    "![title](images/8.1.png)  "
   ]
  },
  {
   "cell_type": "markdown",
   "metadata": {},
   "source": [
    "## 1.2 卷积神经网络介绍  \n",
    "从上图中可以看到卷积神经网络可以分为两大部分  \n",
    "\n",
    "- 图像的特征提取  \n",
    "通过卷积层1、池化层1、卷积层2、池化层2提取的特征  \n",
    "- 完全连接的神经网络  \n",
    "包含；平坦层、隐藏层、输出层、所组成的类神经网络，如图8-2所示。  \n",
    "![title](images/8.2.png)  "
   ]
  },
  {
   "cell_type": "code",
   "execution_count": null,
   "metadata": {},
   "outputs": [],
   "source": []
  }
 ],
 "metadata": {
  "kernelspec": {
   "display_name": "Python 3",
   "language": "python",
   "name": "python3"
  },
  "language_info": {
   "codemirror_mode": {
    "name": "ipython",
    "version": 3
   },
   "file_extension": ".py",
   "mimetype": "text/x-python",
   "name": "python",
   "nbconvert_exporter": "python",
   "pygments_lexer": "ipython3",
   "version": "3.6.4"
  }
 },
 "nbformat": 4,
 "nbformat_minor": 2
}
